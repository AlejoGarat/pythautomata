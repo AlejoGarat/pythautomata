{
 "metadata": {
  "language_info": {
   "codemirror_mode": {
    "name": "ipython",
    "version": 3
   },
   "file_extension": ".py",
   "mimetype": "text/x-python",
   "name": "python",
   "nbconvert_exporter": "python",
   "pygments_lexer": "ipython3",
   "version": "3.9.5"
  },
  "orig_nbformat": 2,
  "kernelspec": {
   "name": "python395jvsc74a57bd09c2f376f156708497c641089349d8e4a12e2be011423e38b823ce29bec919aca",
   "display_name": "Python 3.9.5 64-bit ('.venv': venv)",
   "language": "python"
  },
  "metadata": {
   "interpreter": {
    "hash": "bb8925ee3fa1086d52bdb1856a99d668a62b1d7afce7804c5413dc666499658e"
   }
  }
 },
 "nbformat": 4,
 "nbformat_minor": 2,
 "cells": [
  {
   "cell_type": "code",
   "execution_count": 1,
   "metadata": {},
   "outputs": [],
   "source": [
    "from pythautomata.automata_definitions.tomitas_grammars import TomitasGrammars\n",
    "from pythautomata.utilities.automata_converter import AutomataConverter\n",
    "from pythautomata.boolean_algebra_learner.closed_discrete_interval_learner import ClosedDiscreteIntervalLearner\n",
    "from pythautomata.boolean_algebra_learner.equality_learner import EqualityLearner\n",
    "from pythautomata.model_exporters.dot_exporting_strategy import DotExportingStrategy\n",
    "from pythautomata.model_exporters.image_exporting_strategy import ImageExportingStrategy"
   ]
  },
  {
   "cell_type": "code",
   "execution_count": 2,
   "metadata": {},
   "outputs": [
    {
     "output_type": "stream",
     "name": "stdout",
     "text": [
      "self = Hole (Non-final), hole = Hole (Non-final), self._hole = Hole (Non-final)\nself = State A (Final), hole = Hole (Non-final), self._hole = Hole (Non-final)\nself = State B (Non-final), hole = Hole (Non-final), self._hole = Hole (Non-final)\n"
     ]
    }
   ],
   "source": [
    "from pythautomata.base_types.state import State\n",
    "from pythautomata.base_types.symbolic_state import SymbolicState\n",
    "from pythautomata.automata.deterministic_finite_automaton import DeterministicFiniteAutomaton\n",
    "from pythautomata.automata.symbolic_finite_automaton import SymbolicFiniteAutomaton\n",
    "\n",
    "tomita1=TomitasGrammars.get_automaton_1()\n",
    "automata = AutomataConverter.convert_dfa_to_sfa(tomita1, ClosedDiscreteIntervalLearner())\n",
    "automata.id=\"bjkasfjkbasdfkbjdsfa\""
   ]
  },
  {
   "cell_type": "code",
   "execution_count": 3,
   "metadata": {},
   "outputs": [
    {
     "output_type": "stream",
     "name": "stdout",
     "text": [
      "vars(state)={'name': 'State A', 'is_final': True, 'transitions': [([1 , ∞], State A (Final)), ([-∞ , 0], State B (Non-final))], '_hole': Hole (Non-final), 'id': 1}\nvars(state)={'name': 'State B', 'is_final': False, 'transitions': [([-∞ , ∞], State B (Non-final))], '_hole': Hole (Non-final), 'id': 2}\ntype(fa1) = <class 'pythautomata.automata.symbolic_finite_automaton.SymbolicFiniteAutomaton'>, vars(fa1) = {'_name': \"SFA_Tomita's grammar 1 automaton\", '_alphabet': frozenset({0, 1}), 'initial_state': State A (Final), 'states': {State A (Final), State B (Non-final)}, '_hole': Hole (Non-final), '_exporting_strategies': [], 'id': 'bjkasfjkbasdfkbjdsfa'}\nsymbol = 0\nsymbol = 1\nsymbol = 0\nsymbol = 1\nsymbol = 0\nvars(self) = {'name': 'State B', 'is_final': False, 'transitions': []}, type(self) = <class 'pythautomata.base_types.symbolic_state.SymbolicState'>\n"
     ]
    },
    {
     "output_type": "error",
     "ename": "AttributeError",
     "evalue": "'SymbolicState' object has no attribute '_hole'",
     "traceback": [
      "\u001b[1;31m---------------------------------------------------------------------------\u001b[0m",
      "\u001b[1;31mAttributeError\u001b[0m                            Traceback (most recent call last)",
      "\u001b[1;32m<ipython-input-3-f0ccc3d78f2f>\u001b[0m in \u001b[0;36m<module>\u001b[1;34m\u001b[0m\n\u001b[0;32m      5\u001b[0m     \u001b[0mid\u001b[0m \u001b[1;33m+=\u001b[0m \u001b[1;36m1\u001b[0m\u001b[1;33m\u001b[0m\u001b[1;33m\u001b[0m\u001b[0m\n\u001b[0;32m      6\u001b[0m \u001b[1;32mfrom\u001b[0m \u001b[0mpythautomata\u001b[0m\u001b[1;33m.\u001b[0m\u001b[0mmodel_comparators\u001b[0m\u001b[1;33m.\u001b[0m\u001b[0mhopcroft_karp_comparison_strategy\u001b[0m \u001b[1;32mimport\u001b[0m \u001b[0mHopcroftKarpComparisonStrategy\u001b[0m\u001b[1;33m\u001b[0m\u001b[1;33m\u001b[0m\u001b[0m\n\u001b[1;32m----> 7\u001b[1;33m \u001b[0mHopcroftKarpComparisonStrategy\u001b[0m\u001b[1;33m(\u001b[0m\u001b[1;33m)\u001b[0m\u001b[1;33m.\u001b[0m\u001b[0mget_counterexample_between\u001b[0m\u001b[1;33m(\u001b[0m\u001b[0mautomata\u001b[0m\u001b[1;33m,\u001b[0m \u001b[0mtomita1\u001b[0m\u001b[1;33m)\u001b[0m\u001b[1;33m\u001b[0m\u001b[1;33m\u001b[0m\u001b[0m\n\u001b[0m",
      "\u001b[1;32mc:\\Users\\fedev\\Desktop\\pythautomata\\pythautomata\\model_comparators\\hopcroft_karp_comparison_strategy.py\u001b[0m in \u001b[0;36mget_counterexample_between\u001b[1;34m(self, automaton1, automaton2)\u001b[0m\n\u001b[0;32m     16\u001b[0m \u001b[1;33m\u001b[0m\u001b[0m\n\u001b[0;32m     17\u001b[0m     \u001b[1;32mdef\u001b[0m \u001b[0mget_counterexample_between\u001b[0m\u001b[1;33m(\u001b[0m\u001b[0mself\u001b[0m\u001b[1;33m,\u001b[0m \u001b[0mautomaton1\u001b[0m\u001b[1;33m:\u001b[0m \u001b[0mFA\u001b[0m\u001b[1;33m,\u001b[0m \u001b[0mautomaton2\u001b[0m\u001b[1;33m:\u001b[0m \u001b[0mFA\u001b[0m\u001b[1;33m)\u001b[0m \u001b[1;33m->\u001b[0m \u001b[0mUnion\u001b[0m\u001b[1;33m[\u001b[0m\u001b[0mSequence\u001b[0m\u001b[1;33m,\u001b[0m \u001b[1;32mNone\u001b[0m\u001b[1;33m]\u001b[0m\u001b[1;33m:\u001b[0m\u001b[1;33m\u001b[0m\u001b[1;33m\u001b[0m\u001b[0m\n\u001b[1;32m---> 18\u001b[1;33m         \u001b[0mcounterexample\u001b[0m \u001b[1;33m=\u001b[0m \u001b[0mself\u001b[0m\u001b[1;33m.\u001b[0m\u001b[0m_inner_are_equivalent\u001b[0m\u001b[1;33m(\u001b[0m\u001b[0mautomaton1\u001b[0m\u001b[1;33m,\u001b[0m \u001b[0mautomaton2\u001b[0m\u001b[1;33m)\u001b[0m\u001b[1;33m\u001b[0m\u001b[1;33m\u001b[0m\u001b[0m\n\u001b[0m\u001b[0;32m     19\u001b[0m         \u001b[1;32mreturn\u001b[0m \u001b[0mcounterexample\u001b[0m\u001b[1;33m\u001b[0m\u001b[1;33m\u001b[0m\u001b[0m\n\u001b[0;32m     20\u001b[0m \u001b[1;33m\u001b[0m\u001b[0m\n",
      "\u001b[1;32mc:\\Users\\fedev\\Desktop\\pythautomata\\pythautomata\\model_comparators\\hopcroft_karp_comparison_strategy.py\u001b[0m in \u001b[0;36m_inner_are_equivalent\u001b[1;34m(self, fa1, fa2)\u001b[0m\n\u001b[0;32m     63\u001b[0m \u001b[1;33m\u001b[0m\u001b[0m\n\u001b[0;32m     64\u001b[0m                     \u001b[1;32mif\u001b[0m \u001b[0maut1_next_states_for_sym\u001b[0m \u001b[1;32mis\u001b[0m \u001b[1;32mNone\u001b[0m\u001b[1;33m:\u001b[0m\u001b[1;33m\u001b[0m\u001b[1;33m\u001b[0m\u001b[0m\n\u001b[1;32m---> 65\u001b[1;33m                         aut1_next_states_for_sym = self._fill_transitions_for(\n\u001b[0m\u001b[0;32m     66\u001b[0m                             list(aut1_states), symbol, fa1.hole)\n\u001b[0;32m     67\u001b[0m \u001b[1;33m\u001b[0m\u001b[0m\n",
      "\u001b[1;32mc:\\Users\\fedev\\Desktop\\pythautomata\\pythautomata\\model_comparators\\hopcroft_karp_comparison_strategy.py\u001b[0m in \u001b[0;36m_fill_transitions_for\u001b[1;34m(self, states, symbol, hole)\u001b[0m\n\u001b[0;32m    134\u001b[0m         \u001b[0mprint\u001b[0m\u001b[1;33m(\u001b[0m\u001b[1;34mf'{symbol = }'\u001b[0m\u001b[1;33m)\u001b[0m\u001b[1;33m\u001b[0m\u001b[1;33m\u001b[0m\u001b[0m\n\u001b[0;32m    135\u001b[0m         \u001b[1;32mfor\u001b[0m \u001b[0mstate\u001b[0m \u001b[1;32min\u001b[0m \u001b[0mstates\u001b[0m\u001b[1;33m:\u001b[0m\u001b[1;33m\u001b[0m\u001b[1;33m\u001b[0m\u001b[0m\n\u001b[1;32m--> 136\u001b[1;33m             \u001b[0mnext_states\u001b[0m \u001b[1;33m=\u001b[0m \u001b[0mstate\u001b[0m\u001b[1;33m.\u001b[0m\u001b[0mnext_states_for\u001b[0m\u001b[1;33m(\u001b[0m\u001b[0msymbol\u001b[0m\u001b[1;33m)\u001b[0m\u001b[1;33m\u001b[0m\u001b[1;33m\u001b[0m\u001b[0m\n\u001b[0m\u001b[0;32m    137\u001b[0m             \u001b[1;32mif\u001b[0m \u001b[1;32mnot\u001b[0m \u001b[0mhole\u001b[0m \u001b[1;32min\u001b[0m \u001b[0mnext_states\u001b[0m\u001b[1;33m:\u001b[0m\u001b[1;33m\u001b[0m\u001b[1;33m\u001b[0m\u001b[0m\n\u001b[0;32m    138\u001b[0m                 result.extend(next_state for next_state in next_states\n",
      "\u001b[1;32mc:\\Users\\fedev\\Desktop\\pythautomata\\pythautomata\\base_types\\symbolic_state.py\u001b[0m in \u001b[0;36mnext_states_for\u001b[1;34m(self, symbol)\u001b[0m\n\u001b[0;32m     53\u001b[0m \u001b[1;33m\u001b[0m\u001b[0m\n\u001b[0;32m     54\u001b[0m     \u001b[1;32mdef\u001b[0m \u001b[0mnext_states_for\u001b[0m\u001b[1;33m(\u001b[0m\u001b[0mself\u001b[0m\u001b[1;33m,\u001b[0m \u001b[0msymbol\u001b[0m\u001b[1;33m:\u001b[0m \u001b[0mSymbol\u001b[0m\u001b[1;33m)\u001b[0m \u001b[1;33m->\u001b[0m \u001b[0mlist\u001b[0m\u001b[1;33m[\u001b[0m\u001b[1;34m'SymbolicState'\u001b[0m\u001b[1;33m]\u001b[0m\u001b[1;33m:\u001b[0m\u001b[1;33m\u001b[0m\u001b[1;33m\u001b[0m\u001b[0m\n\u001b[1;32m---> 55\u001b[1;33m         \u001b[1;32mreturn\u001b[0m \u001b[1;33m[\u001b[0m\u001b[0mself\u001b[0m\u001b[1;33m.\u001b[0m\u001b[0mnext_state_for\u001b[0m\u001b[1;33m(\u001b[0m\u001b[0msymbol\u001b[0m\u001b[1;33m)\u001b[0m\u001b[1;33m]\u001b[0m\u001b[1;33m\u001b[0m\u001b[1;33m\u001b[0m\u001b[0m\n\u001b[0m\u001b[0;32m     56\u001b[0m \u001b[1;33m\u001b[0m\u001b[0m\n\u001b[0;32m     57\u001b[0m     \u001b[1;32mdef\u001b[0m \u001b[0madd_hole_transition\u001b[0m\u001b[1;33m(\u001b[0m\u001b[0mself\u001b[0m\u001b[1;33m,\u001b[0m \u001b[0mhole\u001b[0m\u001b[1;33m:\u001b[0m \u001b[1;34m'SymbolicState'\u001b[0m\u001b[1;33m)\u001b[0m \u001b[1;33m->\u001b[0m \u001b[1;32mNone\u001b[0m\u001b[1;33m:\u001b[0m\u001b[1;33m\u001b[0m\u001b[1;33m\u001b[0m\u001b[0m\n",
      "\u001b[1;32mc:\\Users\\fedev\\Desktop\\pythautomata\\pythautomata\\base_types\\symbolic_state.py\u001b[0m in \u001b[0;36mnext_state_for\u001b[1;34m(self, symbol)\u001b[0m\n\u001b[0;32m     50\u001b[0m                 \u001b[1;32mreturn\u001b[0m \u001b[0mstate\u001b[0m\u001b[1;33m\u001b[0m\u001b[1;33m\u001b[0m\u001b[0m\n\u001b[0;32m     51\u001b[0m         \u001b[0mprint\u001b[0m\u001b[1;33m(\u001b[0m\u001b[1;34mf'{vars(self) = }, {type(self) = }'\u001b[0m\u001b[1;33m)\u001b[0m\u001b[1;33m\u001b[0m\u001b[1;33m\u001b[0m\u001b[0m\n\u001b[1;32m---> 52\u001b[1;33m         \u001b[1;32mreturn\u001b[0m \u001b[0mself\u001b[0m\u001b[1;33m.\u001b[0m\u001b[0m_hole\u001b[0m\u001b[1;33m\u001b[0m\u001b[1;33m\u001b[0m\u001b[0m\n\u001b[0m\u001b[0;32m     53\u001b[0m \u001b[1;33m\u001b[0m\u001b[0m\n\u001b[0;32m     54\u001b[0m     \u001b[1;32mdef\u001b[0m \u001b[0mnext_states_for\u001b[0m\u001b[1;33m(\u001b[0m\u001b[0mself\u001b[0m\u001b[1;33m,\u001b[0m \u001b[0msymbol\u001b[0m\u001b[1;33m:\u001b[0m \u001b[0mSymbol\u001b[0m\u001b[1;33m)\u001b[0m \u001b[1;33m->\u001b[0m \u001b[0mlist\u001b[0m\u001b[1;33m[\u001b[0m\u001b[1;34m'SymbolicState'\u001b[0m\u001b[1;33m]\u001b[0m\u001b[1;33m:\u001b[0m\u001b[1;33m\u001b[0m\u001b[1;33m\u001b[0m\u001b[0m\n",
      "\u001b[1;31mAttributeError\u001b[0m: 'SymbolicState' object has no attribute '_hole'"
     ]
    }
   ],
   "source": [
    "id = 1\n",
    "for state in automata.states:\n",
    "    for symbol in automata.alphabet.symbols:\n",
    "        ns = state.next_state_for(symbol)\n",
    "        print(f'{ns = }, {vars(ns) = }')\n",
    "    state.id = id\n",
    "    print(f'{vars(state)=}')\n",
    "    id += 1\n",
    "from pythautomata.model_comparators.hopcroft_karp_comparison_strategy import HopcroftKarpComparisonStrategy\n",
    "HopcroftKarpComparisonStrategy().get_counterexample_between(automata, tomita1)"
   ]
  },
  {
   "cell_type": "code",
   "execution_count": 2,
   "metadata": {},
   "outputs": [],
   "source": [
    "#Equality algebra\n",
    "eq_dots=[ImageExportingStrategy().create_graph(AutomataConvertor.convert_dfa_to_sfa(dfa, EqualityLearner())) for dfa in TomitasGrammars.get_all_automata()]"
   ]
  },
  {
   "cell_type": "code",
   "execution_count": 3,
   "metadata": {},
   "outputs": [],
   "source": [
    "#Closed Discrete Interval Learner\n",
    "inter_dots=[ImageExportingStrategy().create_graph(AutomataConvertor.convert_dfa_to_sfa(dfa, ClosedDiscreteIntervalLearner())) for dfa in TomitasGrammars.get_all_automata()]"
   ]
  },
  {
   "cell_type": "code",
   "execution_count": 4,
   "metadata": {},
   "outputs": [],
   "source": [
    "i = 1\n",
    "for dot in eq_dots:\n",
    "    dot.format = 'png'\n",
    "    dot.render(filename='eq_tomitas'+str(i), directory='./obs/tomitas', cleanup=True)\n",
    "    i += 1\n",
    "\n",
    "i = 1\n",
    "for dot in inter_dots:\n",
    "    dot.format = 'png'\n",
    "    dot.render(filename='inter_tomitas'+str(i), directory='./obs/tomitas', cleanup=True)\n",
    "    i += 1\n"
   ]
  },
  {
   "cell_type": "code",
   "execution_count": 5,
   "metadata": {},
   "outputs": [],
   "source": [
    "from pythautomata.automata_definitions.other_automata import OtherAutomata\n",
    "from pythautomata.automata.deterministic_finite_automaton import DeterministicFiniteAutomaton\n",
    "\n",
    "automata = list(filter(lambda fa: type(fa) == DeterministicFiniteAutomaton, OtherAutomata.get_all_automata()))\n",
    "eq_dots=[ImageExportingStrategy().create_graph(AutomataConvertor.convert_dfa_to_sfa(dfa, EqualityLearner())) for dfa in automata]\n"
   ]
  },
  {
   "cell_type": "code",
   "execution_count": 6,
   "metadata": {},
   "outputs": [],
   "source": [
    "i = 1\n",
    "for dot in eq_dots:\n",
    "    dot.format = 'png'\n",
    "    dot.render(filename='eq_other'+str(i), directory='./obs/other', cleanup=True)\n",
    "    i += 1\n",
    "\n"
   ]
  },
  {
   "cell_type": "code",
   "execution_count": 7,
   "metadata": {},
   "outputs": [],
   "source": [
    "inter_dots = [ImageExportingStrategy().create_graph(AutomataConvertor.convert_dfa_to_sfa(dfa, ClosedDiscreteIntervalLearner())) for dfa in automata]\n",
    "i = 1\n",
    "for dot in inter_dots:\n",
    "    dot.format = 'png'\n",
    "    dot.render(filename='inter_other'+str(i), directory='./obs/other', cleanup=True)\n",
    "    i += 1"
   ]
  },
  {
   "cell_type": "code",
   "execution_count": 8,
   "metadata": {},
   "outputs": [
    {
     "output_type": "execute_result",
     "data": {
      "text/plain": [
       "38"
      ]
     },
     "metadata": {},
     "execution_count": 8
    }
   ],
   "source": [
    "len(list(automata))"
   ]
  },
  {
   "cell_type": "code",
   "execution_count": null,
   "metadata": {},
   "outputs": [],
   "source": []
  }
 ]
}
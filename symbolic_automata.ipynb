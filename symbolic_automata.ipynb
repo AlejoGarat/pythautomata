{
 "metadata": {
  "language_info": {
   "codemirror_mode": {
    "name": "ipython",
    "version": 3
   },
   "file_extension": ".py",
   "mimetype": "text/x-python",
   "name": "python",
   "nbconvert_exporter": "python",
   "pygments_lexer": "ipython3",
   "version": "3.9.5"
  },
  "orig_nbformat": 2,
  "kernelspec": {
   "name": "python395jvsc74a57bd09c2f376f156708497c641089349d8e4a12e2be011423e38b823ce29bec919aca",
   "display_name": "Python 3.9.5 64-bit ('.venv': poetry)",
   "language": "python"
  },
  "metadata": {
   "interpreter": {
    "hash": "bb8925ee3fa1086d52bdb1856a99d668a62b1d7afce7804c5413dc666499658e"
   }
  }
 },
 "nbformat": 4,
 "nbformat_minor": 2,
 "cells": [
  {
   "cell_type": "code",
   "execution_count": 1,
   "metadata": {},
   "outputs": [],
   "source": [
    "from pythautomata.automata_definitions.tomitas_grammars import TomitasGrammars\n",
    "from pythautomata.utilities.automata_convertor import AutomataConvertor\n",
    "from pythautomata.boolean_algebra_learner.closed_discrete_interval_learner import ClosedDiscreteIntervalLearner\n",
    "from pythautomata.boolean_algebra_learner.equality_learner import EqualityLearner\n",
    "from pythautomata.model_exporters.dot_exporting_strategy import DotExportingStrategy\n",
    "from pythautomata.model_exporters.image_exporting_strategy import ImageExportingStrategy"
   ]
  },
  {
   "cell_type": "code",
   "execution_count": 2,
   "metadata": {},
   "outputs": [],
   "source": [
    "#Equality algebra\n",
    "eq_dots=[ImageExportingStrategy().create_graph(AutomataConvertor.convert_dfa_to_sfa(dfa, EqualityLearner())) for dfa in TomitasGrammars.get_all_automata()]"
   ]
  },
  {
   "cell_type": "code",
   "execution_count": 3,
   "metadata": {},
   "outputs": [],
   "source": [
    "#Closed Discrete Interval Learner\n",
    "inter_dots=[ImageExportingStrategy().create_graph(AutomataConvertor.convert_dfa_to_sfa(dfa, ClosedDiscreteIntervalLearner())) for dfa in TomitasGrammars.get_all_automata()]"
   ]
  },
  {
   "cell_type": "code",
   "execution_count": 4,
   "metadata": {},
   "outputs": [],
   "source": [
    "i = 1\n",
    "for dot in eq_dots:\n",
    "    dot.format = 'png'\n",
    "    dot.render(filename='eq_tomitas'+str(i), directory='./obs/tomitas', cleanup=True)\n",
    "    i += 1\n",
    "\n",
    "i = 1\n",
    "for dot in inter_dots:\n",
    "    dot.format = 'png'\n",
    "    dot.render(filename='inter_tomitas'+str(i), directory='./obs/tomitas', cleanup=True)\n",
    "    i += 1\n"
   ]
  },
  {
   "cell_type": "code",
   "execution_count": 5,
   "metadata": {},
   "outputs": [],
   "source": [
    "from pythautomata.automata_definitions.other_automata import OtherAutomata\n",
    "from pythautomata.automata.deterministic_finite_automaton import DeterministicFiniteAutomaton\n",
    "\n",
    "automata = list(filter(lambda fa: type(fa) == DeterministicFiniteAutomaton, OtherAutomata.get_all_automata()))\n",
    "eq_dots=[ImageExportingStrategy().create_graph(AutomataConvertor.convert_dfa_to_sfa(dfa, EqualityLearner())) for dfa in automata]\n"
   ]
  },
  {
   "cell_type": "code",
   "execution_count": 6,
   "metadata": {},
   "outputs": [],
   "source": [
    "i = 1\n",
    "for dot in eq_dots:\n",
    "    dot.format = 'png'\n",
    "    dot.render(filename='eq_other'+str(i), directory='./obs/other', cleanup=True)\n",
    "    i += 1\n",
    "\n"
   ]
  },
  {
   "cell_type": "code",
   "execution_count": 7,
   "metadata": {},
   "outputs": [],
   "source": [
    "inter_dots = [ImageExportingStrategy().create_graph(AutomataConvertor.convert_dfa_to_sfa(dfa, ClosedDiscreteIntervalLearner())) for dfa in automata]\n",
    "i = 1\n",
    "for dot in inter_dots:\n",
    "    dot.format = 'png'\n",
    "    dot.render(filename='inter_other'+str(i), directory='./obs/other', cleanup=True)\n",
    "    i += 1"
   ]
  },
  {
   "cell_type": "code",
   "execution_count": 8,
   "metadata": {},
   "outputs": [
    {
     "output_type": "execute_result",
     "data": {
      "text/plain": [
       "38"
      ]
     },
     "metadata": {},
     "execution_count": 8
    }
   ],
   "source": [
    "len(list(automata))"
   ]
  },
  {
   "cell_type": "code",
   "execution_count": null,
   "metadata": {},
   "outputs": [],
   "source": []
  }
 ]
}